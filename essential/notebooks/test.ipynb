{
 "cells": [
  {
   "cell_type": "code",
   "execution_count": null,
   "metadata": {},
   "outputs": [
    {
     "name": "stdout",
     "output_type": "stream",
     "text": [
      "name='John' age=30\n"
     ]
    }
   ],
   "source": [
    "from pydantic import BaseModel\n",
    "# pydantic: Es una librería externa para validación y gestión de datos, basada en modelos que permiten definir tipos y validaciones de manera sencilla y automática.\n",
    "class User(BaseModel):\n",
    "    name: str\n",
    "    age: int\n",
    "\n",
    "# Validación automática\n",
    "user = User(name=\"John\", age=30)\n",
    "print(user)"
   ]
  },
  {
   "cell_type": "code",
   "execution_count": null,
   "metadata": {},
   "outputs": [
    {
     "name": "stdout",
     "output_type": "stream",
     "text": [
      "[1, 2, 3]\n",
      "{'setting': 'value'}\n"
     ]
    },
    {
     "data": {
      "text/plain": [
       "True"
      ]
     },
     "execution_count": 2,
     "metadata": {},
     "output_type": "execute_result"
    }
   ],
   "source": [
    "from typing import List, Dict\n",
    "# typing: Es una librería estándar que proporciona soporte para anotación de tipos, lo que permite declarar explícitamente qué tipo de datos se esperan en variables y funciones, ayudando a herramientas externas a detectar errores en tiempo de desarrollo.\n",
    "def process_items(items: List[int], config: Dict[str, str]) -> bool:\n",
    "    print(items)\n",
    "    print(config)\n",
    "    return True\n",
    "\n",
    "# Llamada a la función\n",
    "process_items([1, 2, 3], {\"setting\": \"value\"})"
   ]
  },
  {
   "cell_type": "code",
   "execution_count": 3,
   "metadata": {},
   "outputs": [
    {
     "name": "stdout",
     "output_type": "stream",
     "text": [
      "name='John' age=30 hobbies=['reading', 'coding']\n"
     ]
    }
   ],
   "source": [
    "from pydantic import BaseModel\n",
    "from typing import List\n",
    "\n",
    "class User(BaseModel):\n",
    "    name: str\n",
    "    age: int\n",
    "    hobbies: List[str]\n",
    "\n",
    "# Este modelo valida que los datos cumplan con los tipos definidos\n",
    "user = User(name=\"John\", age=30, hobbies=[\"reading\", \"coding\"])\n",
    "print(user)"
   ]
  }
 ],
 "metadata": {
  "kernelspec": {
   "display_name": "NLP",
   "language": "python",
   "name": "venv"
  },
  "language_info": {
   "codemirror_mode": {
    "name": "ipython",
    "version": 3
   },
   "file_extension": ".py",
   "mimetype": "text/x-python",
   "name": "python",
   "nbconvert_exporter": "python",
   "pygments_lexer": "ipython3",
   "version": "3.12.1"
  }
 },
 "nbformat": 4,
 "nbformat_minor": 2
}
