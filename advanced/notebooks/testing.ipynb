{
 "cells": [
  {
   "cell_type": "code",
   "execution_count": 2,
   "metadata": {},
   "outputs": [
    {
     "name": "stdout",
     "output_type": "stream",
     "text": [
      "https://pixabay.com/api/?key=41189603-223fdf57adaf8df413dc2576b&q=health&image_type=photo&per_page=1\n",
      "400\n",
      "Generated URL: https://pixabay.com/api/?key=41189603-223fdf57adaf8df413dc2576b&q=health&image_type=photo&per_page=1\n"
     ]
    }
   ],
   "source": [
    "import requests\n",
    "\n",
    "query = \"health\"\n",
    "api_key=\"41189603-223fdf57adaf8df413dc2576b\"\n",
    "url = f\"https://pixabay.com/api/?key={api_key}&q={query}&image_type=photo&per_page=1\"\n",
    "response = requests.get(url)\n",
    "print(response.url)\n",
    "print(response.status_code)\n",
    "print(f\"Generated URL: {url}\")\n"
   ]
  }
 ],
 "metadata": {
  "kernelspec": {
   "display_name": "Kernel para proyecto de DataScientist",
   "language": "python",
   "name": "data_scientist"
  },
  "language_info": {
   "codemirror_mode": {
    "name": "ipython",
    "version": 3
   },
   "file_extension": ".py",
   "mimetype": "text/x-python",
   "name": "python",
   "nbconvert_exporter": "python",
   "pygments_lexer": "ipython3",
   "version": "3.12.1"
  }
 },
 "nbformat": 4,
 "nbformat_minor": 2
}
